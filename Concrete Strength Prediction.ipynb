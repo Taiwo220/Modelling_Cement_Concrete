{
 "cells": [
  {
   "cell_type": "markdown",
   "id": "c42edf75",
   "metadata": {},
   "source": [
    "# Project Description\n",
    "This project is focused on the Prediction of Concrete compressive strength(MPa, megapascals) based different commonents\n",
    "The dependent Variable is Concrete compressive strength(MPa, megapascals), while the independent variables are:\n",
    "1) Cement (component 1)(kg in a m^3 mixture)\n",
    "\n",
    "2) Blast Furnace Slag (component 2)(kg in a m^3 mixture)\t\n",
    "3) Fly Ash (component 3)(kg in a m^3) \n",
    "\n",
    "4) Water (component 4)(kg in a m^3 mixture)\t\n",
    "5) Superplasticizer (component 5)(kg in a m^3 mixture)\t\n",
    "6) Coarse Aggregate (component 6)(kg in a m^3 mixture)\t\n",
    "7) Fine Aggregate (component 7)(kg in a m^3 mixture)\t\n",
    "\n",
    "Different LightGBM models will be developed based on different age of curing.\n"
   ]
  },
  {
   "cell_type": "markdown",
   "id": "103e4710",
   "metadata": {},
   "source": [
    "# Import Important Libraries"
   ]
  },
  {
   "cell_type": "code",
   "execution_count": null,
   "id": "29f30720",
   "metadata": {},
   "outputs": [],
   "source": [
    "import pandas as pd\n",
    "import fast_ml\n",
    "from sklearn.preprocessing  import OneHotEncoder\n",
    "from fast_ml import eda\n",
    "from sklearn.model_selection import train_test_split\n",
    "import os\n",
    "from sklearn.linear_model import Ridge, Lasso\n",
    "from sklearn import metrics\n",
    "import numpy as np\n",
    "from sklearn.metrics import r2_score\n",
    "import math\n",
    "from sklearn import svm\n",
    "from sklearn.preprocessing import StandardScaler\n",
    "import hydroeval as he\n",
    "import seaborn as sns\n",
    "import matplotlib.pyplot as plt\n",
    "from sklearn.ensemble import GradientBoostingRegressor\n",
    "%matplotlib inline"
   ]
  },
  {
   "cell_type": "markdown",
   "id": "fcd35e8f",
   "metadata": {},
   "source": [
    "# Data Preparation and Assessment"
   ]
  },
  {
   "cell_type": "code",
   "execution_count": null,
   "id": "a2a57d59",
   "metadata": {},
   "outputs": [],
   "source": [
    "#Load and View Data\n",
    "filepath='Concrete_Data.xlsx'\n",
    "df=pd.read_excel(filepath,engine='openpyxl') #without engine='openpyxl', I was unable to read the excel file) \n",
    "df.head(5)"
   ]
  },
  {
   "cell_type": "code",
   "execution_count": null,
   "id": "62c9a5bc",
   "metadata": {},
   "outputs": [],
   "source": [
    "from fast_ml import eda\n",
    "\n",
    "# One of the most useful dataframe summary view\n",
    "summary_df = eda.df_info(df)\n",
    "summary_df"
   ]
  },
  {
   "cell_type": "code",
   "execution_count": null,
   "id": "02402d8a",
   "metadata": {},
   "outputs": [],
   "source": [
    "#simple Descriptive Statistics of Data\n",
    "df.describe(include='all').transpose()"
   ]
  },
  {
   "cell_type": "code",
   "execution_count": null,
   "id": "45cda672",
   "metadata": {
    "scrolled": false
   },
   "outputs": [],
   "source": [
    "corr = df.corr()\n",
    "print(\"\\nCorrelation matrix:\")\n",
    "print(corr)\n",
    "\n",
    "# Heatmap of the correlation matrix\n",
    "plt.figure(figsize=(10, 8))\n",
    "sns.heatmap(corr, annot=True, cmap='coolwarm', fmt='.2f')\n",
    "plt.title('Heatmap of Correlation Matrix', fontsize=16)\n",
    "plt.show()\n"
   ]
  },
  {
   "cell_type": "code",
   "execution_count": null,
   "id": "2e53135d",
   "metadata": {},
   "outputs": [],
   "source": [
    "# Histogram for numerical columns\n",
    "df.hist(bins=20, figsize=(14, 10), color='skyblue')\n",
    "plt.suptitle('Histograms of Numerical Columns', fontsize=16)\n",
    "plt.show()\n"
   ]
  },
  {
   "cell_type": "code",
   "execution_count": null,
   "id": "a91e2b21",
   "metadata": {},
   "outputs": [],
   "source": []
  }
 ],
 "metadata": {
  "kernelspec": {
   "display_name": "TF-KERNEL",
   "language": "python",
   "name": "tf-kernel"
  },
  "language_info": {
   "codemirror_mode": {
    "name": "ipython",
    "version": 3
   },
   "file_extension": ".py",
   "mimetype": "text/x-python",
   "name": "python",
   "nbconvert_exporter": "python",
   "pygments_lexer": "ipython3",
   "version": "3.6.13"
  }
 },
 "nbformat": 4,
 "nbformat_minor": 5
}
